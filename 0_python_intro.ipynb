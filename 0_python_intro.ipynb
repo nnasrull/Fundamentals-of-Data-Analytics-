{
 "cells": [
  {
   "cell_type": "markdown",
   "metadata": {},
   "source": [
    "# Python Tutorial for Signal Processing\n",
    "\n",
    "This tutorial gives a brief overview over the basic concepts of the Python programming language. It is based on the official Python tutorial at https://docs.python.org/3.6/tutorial/index.html as it converts some parts of the tutorial to the notebook format at hand and slides taken from Benjamin Seppke. Further, the python packages numpy and scipy are introduced which form the foundation for the signal analysis. Finally, the matplotlib package is tackled - a python library for graphical visualizations.\n",
    "\n",
    "## Why Python?\n",
    "\n",
    "* Interactive: no compilation required\n",
    "* A lot of functionality is already available and can easily extended using packages\n",
    "* Platform independent and freely available\n",
    "* Large user base and good documentation\n",
    "* Forces compactness and readability of programs by syntax\n",
    "* Can be easily learned"
   ]
  },
  {
   "cell_type": "markdown",
   "metadata": {},
   "source": [
    "# Introduction to Python and the Notebook\n",
    "\n",
    "A short introduction to Python taken from the Python tutorial (https://docs.python.org/3.6/tutorial/index.html):\n",
    "\n",
    "> Python is an easy to learn, powerful programming language. [...] Python's elegant syntax and dynamic typing, together with its interpreted nature, make it an ideal language for scripting and rapid application development in many areas on most platforms.\n",
    ">\n",
    "> This tutorial introduces the reader informally to the basic concepts and features of the Python language and system. It helps to have a Python interpreter handy for hands-on experience, but all examples are self-contained, so the tutorial can be read off-line as well.\n",
    ">\n",
    ">This tutorial does not attempt to be comprehensive and cover every single feature, or even every commonly used feature. Instead, it introduces many of Python's most noteworthy features, and will give you a good idea of the language's flavor and style. After reading it, you will be able to read and write Python modules and programs, and you will be ready to learn more about the various Python library modules described in The Python Standard Library.\n",
    "\n",
    "An introduction to the Jupyter notebook taken from (www.jupyter.org):\n",
    "\n",
    "> The Jupyter Notebook is an open-source web application that allows you to create and share documents that contain live code, equations, visualizations and explanatory text. Uses include: data cleaning and transformation, numerical simulation, statistical modeling, machine learning and much more."
   ]
  },
  {
   "cell_type": "markdown",
   "metadata": {},
   "source": [
    "#### First example in the interactive notebook\n",
    "\n",
    "To run the following code cell press Shift + Enter. See the help menu for further documentation, help, and keyboard shortcuts, e.g., Help -> User Interface Tour will give you an tour through the Jupyter notebook."
   ]
  },
  {
   "cell_type": "code",
   "execution_count": null,
   "metadata": {
    "collapsed": true
   },
   "outputs": [],
   "source": [
    "# This is a comment. \n",
    "# The line below defines the world as flat. If the world should not be flat use \"False\" instead of \"True\"\n",
    "the_world_is_flat = True\n",
    "\n",
    "if the_world_is_flat:\n",
    "    print(\"Try not to fall off...\")"
   ]
  },
  {
   "cell_type": "markdown",
   "metadata": {},
   "source": [
    "### Python as calculator"
   ]
  },
  {
   "cell_type": "markdown",
   "metadata": {},
   "source": [
    "The interpreter acts as a simple calculator: you can type an expression at it and it will write the value. Expression syntax is straightforward: the operators +, -, * and / work just like in most other languages (for example, Pascal or C); parentheses (()) can be used for grouping. For example:"
   ]
  },
  {
   "cell_type": "code",
   "execution_count": null,
   "metadata": {
    "collapsed": true
   },
   "outputs": [],
   "source": [
    "2 + 2"
   ]
  },
  {
   "cell_type": "markdown",
   "metadata": {},
   "source": [
    "Divisions always returns floating point numbers."
   ]
  },
  {
   "cell_type": "code",
   "execution_count": null,
   "metadata": {
    "collapsed": true
   },
   "outputs": [],
   "source": [
    "50 / 6 + 4"
   ]
  },
  {
   "cell_type": "markdown",
   "metadata": {},
   "source": [
    "The floor division discards the fractional part."
   ]
  },
  {
   "cell_type": "code",
   "execution_count": null,
   "metadata": {
    "collapsed": true
   },
   "outputs": [],
   "source": [
    "7 // 3"
   ]
  },
  {
   "cell_type": "markdown",
   "metadata": {},
   "source": [
    "The modulo operator, i.e., the operator that returns the remainder of a division, is given by %."
   ]
  },
  {
   "cell_type": "code",
   "execution_count": null,
   "metadata": {
    "collapsed": true
   },
   "outputs": [],
   "source": [
    "3 % 2"
   ]
  },
  {
   "cell_type": "markdown",
   "metadata": {},
   "source": [
    "Python also deals with complex numbers where the imaginary unit is denoted by `j` where $j = \\sqrt{-1}$."
   ]
  },
  {
   "cell_type": "code",
   "execution_count": null,
   "metadata": {
    "collapsed": true
   },
   "outputs": [],
   "source": [
    "# define two complex numbers\n",
    "x = 1 + 1j\n",
    "y = 3 - 2j\n",
    "\n",
    "# compute the result of the addition\n",
    "z = x + y\n",
    "\n",
    "# display the result\n",
    "z"
   ]
  },
  {
   "cell_type": "markdown",
   "metadata": {},
   "source": [
    "Complex numbers cannot be directly converted to a real value. However, the real and imaginary part can be extracted. Further, the `abs` command extracts the absolute value of the complex and `angle` its argument."
   ]
  },
  {
   "cell_type": "code",
   "execution_count": null,
   "metadata": {
    "collapsed": true
   },
   "outputs": [],
   "source": [
    "# direct conversion fails\n",
    "float(z)"
   ]
  },
  {
   "cell_type": "code",
   "execution_count": null,
   "metadata": {
    "collapsed": true
   },
   "outputs": [],
   "source": [
    "# get real part\n",
    "z.real"
   ]
  },
  {
   "cell_type": "code",
   "execution_count": null,
   "metadata": {
    "collapsed": true
   },
   "outputs": [],
   "source": [
    "# get imaginary part\n",
    "z.imag"
   ]
  },
  {
   "cell_type": "code",
   "execution_count": null,
   "metadata": {
    "collapsed": true
   },
   "outputs": [],
   "source": [
    "# compute absolute value\n",
    "abs(z) # sqrt(z.real**2 + z.imag**2) where **2 denotes the square"
   ]
  },
  {
   "cell_type": "code",
   "execution_count": null,
   "metadata": {
    "collapsed": true
   },
   "outputs": [],
   "source": [
    "# computing the phase requires the cmath package to be imported\n",
    "import cmath\n",
    "cmath.phase(z)"
   ]
  },
  {
   "cell_type": "markdown",
   "metadata": {},
   "source": [
    "### Strings"
   ]
  },
  {
   "cell_type": "markdown",
   "metadata": {},
   "source": [
    "Strings are enclosed in single quotes '...' or double quotes \"...\". Both work."
   ]
  },
  {
   "cell_type": "code",
   "execution_count": null,
   "metadata": {
    "collapsed": true
   },
   "outputs": [],
   "source": [
    "word = 'spam'\n",
    "another_word = \"ham\"\n",
    "\n",
    "# use \\' as escape character in strings\n",
    "doesnot = 'doesn\\'t'\n",
    "\n",
    "# strings can be output using print\n",
    "print(doesnot)"
   ]
  },
  {
   "cell_type": "markdown",
   "metadata": {},
   "source": [
    "Strings can be concatenated using `+` and repeated via `*`."
   ]
  },
  {
   "cell_type": "code",
   "execution_count": null,
   "metadata": {
    "collapsed": true
   },
   "outputs": [],
   "source": [
    "# concatenation\n",
    "print(word + \" and ham\")\n",
    "\n",
    "# another method for concatenating string enclosed in '...' or \"...\"\n",
    "print(\"first part\" \" - \" \"second part\")\n",
    "\n",
    "# repitition\n",
    "print(word * 5)"
   ]
  },
  {
   "cell_type": "markdown",
   "metadata": {},
   "source": [
    "Substrings can be extracted using the indexing operator `[]`."
   ]
  },
  {
   "cell_type": "code",
   "execution_count": null,
   "metadata": {
    "collapsed": true
   },
   "outputs": [],
   "source": [
    "# Get first character. Indexing starts at 0.\n",
    "print(word[0])\n",
    "\n",
    "# get last character\n",
    "print(word[-1])\n",
    "\n",
    "# get first two characters\n",
    "print(word[0:2])\n",
    "\n",
    "# get everything except the first two characters\n",
    "print(word[2:])"
   ]
  },
  {
   "cell_type": "markdown",
   "metadata": {},
   "source": [
    "### Lists\n",
    "\n",
    "Lists are similar to arrays but can take elements of different types."
   ]
  },
  {
   "cell_type": "code",
   "execution_count": null,
   "metadata": {
    "collapsed": true
   },
   "outputs": [],
   "source": [
    "# list example\n",
    "a = ['spam', 'eggs', 100, 1234]\n",
    "\n",
    "# display list\n",
    "a"
   ]
  },
  {
   "cell_type": "markdown",
   "metadata": {},
   "source": [
    "The `[]` operator is also used to index lists."
   ]
  },
  {
   "cell_type": "code",
   "execution_count": null,
   "metadata": {
    "collapsed": true
   },
   "outputs": [],
   "source": [
    "# first element\n",
    "a[0]"
   ]
  },
  {
   "cell_type": "code",
   "execution_count": null,
   "metadata": {
    "collapsed": true
   },
   "outputs": [],
   "source": [
    "# last element\n",
    "a[-1]"
   ]
  },
  {
   "cell_type": "code",
   "execution_count": null,
   "metadata": {
    "collapsed": true
   },
   "outputs": [],
   "source": [
    "# second last element\n",
    "a[-2]"
   ]
  },
  {
   "cell_type": "code",
   "execution_count": null,
   "metadata": {
    "collapsed": true
   },
   "outputs": [],
   "source": [
    "a[1:-1]"
   ]
  },
  {
   "cell_type": "markdown",
   "metadata": {},
   "source": [
    "Similar to strings, lists can be concatenated using `+`."
   ]
  },
  {
   "cell_type": "code",
   "execution_count": null,
   "metadata": {
    "collapsed": true
   },
   "outputs": [],
   "source": [
    "a + [\"bacon\", 456]"
   ]
  },
  {
   "cell_type": "markdown",
   "metadata": {},
   "source": [
    "### Control flow"
   ]
  },
  {
   "cell_type": "markdown",
   "metadata": {},
   "source": [
    "The Fibonacci series is used to demonstrate a while loop. In the Fibonacci series the next number is defined as the sum of the two previous ones. Note that the body of the loop is given by the indentation."
   ]
  },
  {
   "cell_type": "code",
   "execution_count": null,
   "metadata": {
    "collapsed": true
   },
   "outputs": [],
   "source": [
    "# define intial numbers\n",
    "a = 0\n",
    "b = 1\n",
    "\n",
    "while b < 100:\n",
    "    # The keyword parameter \"end\" replaces the \"\\n\" at the end of the string by \", \".\n",
    "    # The results are hence written on a single line.\n",
    "    print(b, end=\", \")\n",
    "    a, b = b, a + b"
   ]
  },
  {
   "cell_type": "markdown",
   "metadata": {},
   "source": [
    "`If`/`then`/`else` blocks are given as follows."
   ]
  },
  {
   "cell_type": "code",
   "execution_count": null,
   "metadata": {
    "collapsed": true
   },
   "outputs": [],
   "source": [
    "some_number = int(input(\"Enter an integer number: \"))\n",
    "\n",
    "if some_number < 0:\n",
    "    some_number = 0\n",
    "    print(\"Negative number changed to zero\")\n",
    "elif some_number == 0:\n",
    "    print(\"Zero\")\n",
    "elif some_number == 1:\n",
    "    print(\"Single\")\n",
    "else:\n",
    "    print(\"More\")"
   ]
  },
  {
   "cell_type": "markdown",
   "metadata": {},
   "source": [
    "The `for`-loop is actually a for-each loop."
   ]
  },
  {
   "cell_type": "code",
   "execution_count": null,
   "metadata": {
    "collapsed": true
   },
   "outputs": [],
   "source": [
    "# measure the lengths of words\n",
    "a = [\"two\", \"three\", \"four\"]\n",
    "\n",
    "for x in a:\n",
    "    print(x, len(x))"
   ]
  },
  {
   "cell_type": "code",
   "execution_count": null,
   "metadata": {
    "collapsed": true
   },
   "outputs": [],
   "source": [
    "# enumerate list items\n",
    "a = [\"Mary\", \"had\", \"a\", \"little\", \"lamb\"]\n",
    "\n",
    "for i, val in enumerate(a):\n",
    "    print(i, val)"
   ]
  },
  {
   "cell_type": "code",
   "execution_count": null,
   "metadata": {
    "collapsed": true
   },
   "outputs": [],
   "source": [
    "# a standard for loop\n",
    "for i in range(5):\n",
    "    print(i)"
   ]
  },
  {
   "cell_type": "markdown",
   "metadata": {},
   "source": [
    "### Functions\n",
    "\n",
    "Functions are one of the most important way to abstract from problems and to design programs. They are defined as follows."
   ]
  },
  {
   "cell_type": "code",
   "execution_count": 26,
   "metadata": {
    "collapsed": true
   },
   "outputs": [],
   "source": [
    "def fib(n):\n",
    "    # write Fibonacci series up to n\n",
    "    \"\"\"Print a Fibonacci series up to n.\"\"\"\n",
    "    a, b = 0, 1\n",
    "    while a < n:\n",
    "        print(a, end=\", \")\n",
    "        a, b = b, a+b\n",
    "    \n",
    "    # for line end\n",
    "    print(\"\")"
   ]
  },
  {
   "cell_type": "markdown",
   "metadata": {},
   "source": [
    "Now, the function can be called as follows. As the function does not return value `ret_val` has the value none."
   ]
  },
  {
   "cell_type": "code",
   "execution_count": null,
   "metadata": {
    "collapsed": true
   },
   "outputs": [],
   "source": [
    "# call function\n",
    "ret_val = fib(2000)\n",
    "\n",
    "# display return value\n",
    "print(ret_val)"
   ]
  },
  {
   "cell_type": "markdown",
   "metadata": {},
   "source": [
    "Functions are python objects."
   ]
  },
  {
   "cell_type": "code",
   "execution_count": null,
   "metadata": {
    "collapsed": true
   },
   "outputs": [],
   "source": [
    "fib"
   ]
  },
  {
   "cell_type": "markdown",
   "metadata": {},
   "source": [
    "Another variation of the Fibonacci series. This time a function that returns the numbers as a list."
   ]
  },
  {
   "cell_type": "code",
   "execution_count": 29,
   "metadata": {
    "collapsed": true
   },
   "outputs": [],
   "source": [
    "def fib2(n):\n",
    "    \"\"\"Return a Fibonacci series up to n.\"\"\"\n",
    "    # initialize an empty list\n",
    "    results = []\n",
    "    \n",
    "    # intialize the first value\n",
    "    a = 0\n",
    "    b = 1\n",
    "    \n",
    "    # loop until n is reached\n",
    "    while b < n:\n",
    "        # append result in b to the list results\n",
    "        results.append(b)\n",
    "        \n",
    "        # compute new Fibonacci numbner\n",
    "        a, b = b, a + b\n",
    "    \n",
    "    # return results\n",
    "    return results"
   ]
  },
  {
   "cell_type": "code",
   "execution_count": null,
   "metadata": {
    "collapsed": true
   },
   "outputs": [],
   "source": [
    "# run function\n",
    "results = fib2(2000)\n",
    "\n",
    "# display results\n",
    "results"
   ]
  },
  {
   "cell_type": "markdown",
   "metadata": {},
   "source": [
    "A small example on how function arguments can be defined. It is possible to define default values."
   ]
  },
  {
   "cell_type": "code",
   "execution_count": 31,
   "metadata": {
    "collapsed": true
   },
   "outputs": [],
   "source": [
    "def parrot(voltage, state='a stiff', action='voom', type='Norwegian Blue'):\n",
    "    print(\"-- This parrot wouldn't\", action,\n",
    "          \"if you put\", voltage, \"volts through it.\")\n",
    "    print(\"-- Lovely plumage, the\", type)\n",
    "    print(\"-- It's\", state, \"!\")"
   ]
  },
  {
   "cell_type": "markdown",
   "metadata": {},
   "source": [
    "When calling the function, either the named arguments can be used or by specifying the arguments in same order of the definition."
   ]
  },
  {
   "cell_type": "code",
   "execution_count": null,
   "metadata": {
    "collapsed": true
   },
   "outputs": [],
   "source": [
    "parrot(100)\n",
    "print(\"-\" * 100) # prints separator\n",
    "parrot(action = \"VOOOOM\", voltage=100000, type=\"Arctic Grey\")\n",
    "print(\"-\" * 100) # prints separator\n",
    "parrot('a million', 'bereft of life', 'jump')"
   ]
  },
  {
   "cell_type": "markdown",
   "metadata": {},
   "source": [
    "# NumPy / SciPy\n",
    "\n",
    "In many programming environments, like e.g. MatLab, signals are represented as (random access) arrays of different data types. Unfortunately, Python's built-in array is often neither flexible nor powerful enough for signal analysis. Thus, NumPy arrays should be used for signal representation.\n",
    "\n",
    "The NumPy hompepage introduces NumPy as (http://www.numpy.org):\n",
    "> NumPy is the fundamental package for scientific computing with Python. It contains among other things [...] a powerful N-dimensional array object.\n",
    "\n",
    "NumPy is loaded by importing the `numpy` package. The following command abbreviates `numpy` to `np`."
   ]
  },
  {
   "cell_type": "code",
   "execution_count": 33,
   "metadata": {
    "collapsed": true
   },
   "outputs": [],
   "source": [
    "import numpy as np\n",
    "\n",
    "# define a numpy array which contains 1000 zeros\n",
    "def_sig = np.zeros(1000)"
   ]
  },
  {
   "cell_type": "markdown",
   "metadata": {},
   "source": [
    "Each NumPy array is bound to a specific type. The default is `float64`."
   ]
  },
  {
   "cell_type": "code",
   "execution_count": null,
   "metadata": {
    "collapsed": true
   },
   "outputs": [],
   "source": [
    "def_sig.dtype"
   ]
  },
  {
   "cell_type": "markdown",
   "metadata": {},
   "source": [
    "Multidimensional arrays, i.e., multi-channel signals can be created via"
   ]
  },
  {
   "cell_type": "code",
   "execution_count": 35,
   "metadata": {
    "collapsed": true
   },
   "outputs": [],
   "source": [
    "# a two-channel signal\n",
    "multi_sig = np.zeros((2, 1000))"
   ]
  },
  {
   "cell_type": "markdown",
   "metadata": {},
   "source": [
    "Parts of the signal can be extracted using slicing. The following sets the right channel to ones, if the two-channels in the above signal are assumed to correspond to the left and the right channel."
   ]
  },
  {
   "cell_type": "code",
   "execution_count": null,
   "metadata": {
    "collapsed": true
   },
   "outputs": [],
   "source": [
    "# set right channel to 1\n",
    "multi_sig[1, :] = 3\n",
    "\n",
    "multi_sig[:, 2:10] = 1\n",
    "\n",
    "# display result\n",
    "multi_sig"
   ]
  },
  {
   "cell_type": "markdown",
   "metadata": {},
   "source": [
    "NumPy also allows also logical indexing."
   ]
  },
  {
   "cell_type": "code",
   "execution_count": null,
   "metadata": {
    "collapsed": true
   },
   "outputs": [],
   "source": [
    "# include matplotlib for visualization\n",
    "from matplotlib import pyplot as plt\n",
    "%matplotlib inline\n",
    "\n",
    "# create a sine\n",
    "sine = np.sin(2*np.pi*0.01*np.arange(100)) # np.arange(100) generates a vector with numbers from 0 to 99\n",
    "sine_orig = sine.copy()\n",
    "\n",
    "# set all values below zero to zero\n",
    "mask = sine < 0\n",
    "sine[mask] = 0\n",
    "\n",
    "# display result\n",
    "plt.plot(np.arange(100), sine_orig, np.arange(100), sine)\n",
    "plt.show()"
   ]
  },
  {
   "cell_type": "markdown",
   "metadata": {},
   "source": [
    "Scalars are added to each element of a NumPy array. Arrays can be added, subtracted, multiplied, and divided by other arrays. Also other operators like squaring etc. work."
   ]
  },
  {
   "cell_type": "code",
   "execution_count": null,
   "metadata": {
    "collapsed": true
   },
   "outputs": [],
   "source": [
    "# scalar added\n",
    "multi_sig + 2"
   ]
  },
  {
   "cell_type": "code",
   "execution_count": null,
   "metadata": {
    "collapsed": true
   },
   "outputs": [],
   "source": [
    "# adding the same array to itself\n",
    "multi_sig + multi_sig"
   ]
  },
  {
   "cell_type": "code",
   "execution_count": null,
   "metadata": {
    "collapsed": true
   },
   "outputs": [],
   "source": [
    "# multiplying the array by itself\n",
    "multi_sig * multi_sig"
   ]
  },
  {
   "cell_type": "markdown",
   "metadata": {},
   "source": [
    "Lower dimensional arrays can be added to larger dimensional arrays if the shapes are compatible. In the following example a 2x1 array with values 3 and 2 is added to the 2x1000 array. The upper row is added by 3 while the lower row is added by 2."
   ]
  },
  {
   "cell_type": "code",
   "execution_count": null,
   "metadata": {
    "collapsed": true
   },
   "outputs": [],
   "source": [
    "# add 3 to all elements of the upper row and 2 to the elements of the lower row\n",
    "multi_sig + np.array([[3], [2]])"
   ]
  },
  {
   "cell_type": "markdown",
   "metadata": {},
   "source": [
    "### Matplotlib\n",
    "\n",
    "Brief introduction to matplotlib (http://www.matplotlib.org):\n",
    "> Matplotlib is a Python 2D plotting library which produces publication quality figures in a variety of hardcopy formats and interactive environments across platforms. Matplotlib can be used in Python scripts, the Python and IPython shell, the jupyter notebook, web application servers, and four graphical user interface toolkits."
   ]
  },
  {
   "cell_type": "code",
   "execution_count": 43,
   "metadata": {
    "collapsed": true
   },
   "outputs": [],
   "source": [
    "# import matplotlib\n",
    "from matplotlib import pyplot as plt\n",
    "\n",
    "# activate inline plots in notebook\n",
    "%matplotlib inline"
   ]
  },
  {
   "cell_type": "code",
   "execution_count": null,
   "metadata": {
    "collapsed": true
   },
   "outputs": [],
   "source": [
    "# simple line plots\n",
    "sig = np.sin(2*np.pi*0.01*np.arange(512))\n",
    "plt.plot(sig)\n",
    "plt.show()"
   ]
  },
  {
   "cell_type": "code",
   "execution_count": null,
   "metadata": {
    "collapsed": true
   },
   "outputs": [],
   "source": [
    "# histogram of the sine signal using 32 bins\n",
    "plt.hist(sig, 32)\n",
    "plt.show()"
   ]
  }
 ],
 "metadata": {
  "kernelspec": {
   "display_name": "playground",
   "language": "python",
   "name": "python3"
  },
  "language_info": {
   "codemirror_mode": {
    "name": "ipython",
    "version": 3
   },
   "file_extension": ".py",
   "mimetype": "text/x-python",
   "name": "python",
   "nbconvert_exporter": "python",
   "pygments_lexer": "ipython3",
   "version": "3.11.9"
  }
 },
 "nbformat": 4,
 "nbformat_minor": 2
}
