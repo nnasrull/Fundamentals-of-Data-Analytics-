{
 "cells": [
  {
   "cell_type": "markdown",
   "id": "67bf1f5a-1feb-4a71-b5a2-583c010c275f",
   "metadata": {},
   "source": [
    "### Exercise 2 — Python Console - 0 Points - Programming task\n",
    "Solve this Exercise in the Python Console in Spyder (IPython console bottom right).\n",
    "1. Create two lists: a list with five zeros and a list with six ones.\n",
    "2. Combine both lists into one.\n",
    "3. Create one more list with numbers from 1 to 10 and connect both lists.\n",
    "4. Filter out all the duplicates. Hint: Which data structure does not allow duplicates?\n",
    "The result should look like this: <br>\n",
    "[0, 1, 2, 3, 4, 5, 6, 7, 8, 9, 10]\n",
    "6. Now remove the number 2 from the list.\n",
    "7. Insert the string \"2\" (type str) and a value of the type bool into the list. Is this possible?\n",
    "8. Is the number 2 now included?"
   ]
  },
  {
   "cell_type": "code",
   "execution_count": 1,
   "id": "d137cbe1-3867-4dce-b97a-46191992410e",
   "metadata": {},
   "outputs": [
    {
     "data": {
      "text/plain": [
       "[0, 0, 0, 0, 0, 1, 1, 1, 1, 1, 1]"
      ]
     },
     "execution_count": 1,
     "metadata": {},
     "output_type": "execute_result"
    }
   ],
   "source": [
    "list1 = [0] * 5\n",
    "list2 = [1] * 6\n",
    "list3 = list1 + list2\n",
    "list3"
   ]
  },
  {
   "cell_type": "code",
   "execution_count": 3,
   "id": "3439dd2e-5517-435c-93cc-1c208bbdda7b",
   "metadata": {},
   "outputs": [
    {
     "data": {
      "text/plain": [
       "[0, 0, 0, 0, 0, 1, 1, 1, 1, 1, 1, 1, 2, 3, 4, 5, 6, 7, 8, 9, 10]"
      ]
     },
     "execution_count": 3,
     "metadata": {},
     "output_type": "execute_result"
    }
   ],
   "source": [
    "list4 = list(range(1, 11))\n",
    "list5 = list3 + list4\n",
    "list5"
   ]
  },
  {
   "cell_type": "code",
   "execution_count": 4,
   "id": "5040a81f-c5bb-408f-b4b0-fa75c56c0558",
   "metadata": {},
   "outputs": [
    {
     "data": {
      "text/plain": [
       "{0, 1, 2, 3, 4, 5, 6, 7, 8, 9, 10}"
      ]
     },
     "execution_count": 4,
     "metadata": {},
     "output_type": "execute_result"
    }
   ],
   "source": [
    "unique = set()\n",
    "for ele in list5:\n",
    "    unique.add(ele)\n",
    "unique"
   ]
  },
  {
   "cell_type": "code",
   "execution_count": 5,
   "id": "82d6a902-5e04-4f13-b639-445508ddaa51",
   "metadata": {},
   "outputs": [],
   "source": [
    "unique.remove(2)"
   ]
  },
  {
   "cell_type": "code",
   "execution_count": 6,
   "id": "3d0d33de-b496-4e7d-b9d3-41f2afcc89c9",
   "metadata": {},
   "outputs": [
    {
     "data": {
      "text/plain": [
       "{0, 1, 3, 4, 5, 6, 7, 8, 9, 10}"
      ]
     },
     "execution_count": 6,
     "metadata": {},
     "output_type": "execute_result"
    }
   ],
   "source": [
    "unique"
   ]
  },
  {
   "cell_type": "code",
   "execution_count": 7,
   "id": "82bed522-0ad2-45c6-b229-3c1bf74f5ad8",
   "metadata": {},
   "outputs": [],
   "source": [
    "unique.add(\"2\")"
   ]
  },
  {
   "cell_type": "code",
   "execution_count": 8,
   "id": "319b8452-7af2-47dd-9fff-ebfe7739e865",
   "metadata": {},
   "outputs": [
    {
     "data": {
      "text/plain": [
       "{0, 1, 10, '2', 3, 4, 5, 6, 7, 8, 9}"
      ]
     },
     "execution_count": 8,
     "metadata": {},
     "output_type": "execute_result"
    }
   ],
   "source": [
    "unique"
   ]
  },
  {
   "cell_type": "markdown",
   "id": "78116a47-5c77-412d-844b-35d69b8d1239",
   "metadata": {},
   "source": [
    "As True and False are interpretated as 1 and 0 respectively, and sets don't allow duplicates, we cannot add any boolean values to the set. In order to do that, we would have to convert the set into a list (which allows duplicate values)."
   ]
  },
  {
   "cell_type": "code",
   "execution_count": 10,
   "id": "d08cbc4e-ab7d-4164-8b56-e11574cfb255",
   "metadata": {},
   "outputs": [
    {
     "data": {
      "text/plain": [
       "[0, 1, 3, 4, 5, 6, 7, 8, 9, 10, '2']"
      ]
     },
     "execution_count": 10,
     "metadata": {},
     "output_type": "execute_result"
    }
   ],
   "source": [
    "list6 = list(unique)\n",
    "list6"
   ]
  },
  {
   "cell_type": "code",
   "execution_count": 11,
   "id": "1d27796a-9af2-4062-bb06-ab61163c32a7",
   "metadata": {},
   "outputs": [
    {
     "data": {
      "text/plain": [
       "[0, 1, 3, 4, 5, 6, 7, 8, 9, 10, '2', True]"
      ]
     },
     "execution_count": 11,
     "metadata": {},
     "output_type": "execute_result"
    }
   ],
   "source": [
    "list6.append(True)\n",
    "list6"
   ]
  },
  {
   "cell_type": "markdown",
   "id": "61a1fca7-4bb4-479e-8526-0505d762c84f",
   "metadata": {},
   "source": [
    " ### Exercise 3 — List reverse - 0 Points - Programming task\n",
    "Note: For the solution of this task the usage of loops is not allowed!\n",
    "Write ascriptthat reverses two sublists of a list. To do this, you should first create a list with thenumbers\n",
    "from 1 to 9 and then input the index of an element. The element at this index should now be used to\n",
    "divide the list into two new sublists. One sublist contains all elements to the left of the selected element\n",
    "and the other sublist contains all elements to the right of the selected element. Then both sublists should\n",
    "be reversed and output together with the selected element. For example: <br>\n",
    "[1, 2, 3, 4, 5, 6, 7, 8, 9]\n",
    "Input index: 2 <br>\n",
    "[2, 1, 3, 9, 8, 7, 6, 5, 4] # Sublists 1,2 and 4,5,6,7,8,9 <br>\n",
    "Reading the text (str) from the console (here: IPython-console) can be done in Python by using the\n",
    "function input(), the function reads the input and returns it. If you only want to output something on\n",
    "the console use function print() instead."
   ]
  },
  {
   "cell_type": "code",
   "execution_count": 12,
   "id": "c0f9566a-9bb5-4827-8032-5b03902417a4",
   "metadata": {},
   "outputs": [
    {
     "data": {
      "text/plain": [
       "[1, 2, 3, 4, 5, 6, 7, 8, 9]"
      ]
     },
     "execution_count": 12,
     "metadata": {},
     "output_type": "execute_result"
    }
   ],
   "source": [
    "li = list(range(1, 10))\n",
    "li"
   ]
  },
  {
   "cell_type": "code",
   "execution_count": 13,
   "id": "8369c882-f28d-4e90-9a51-eba12da4b9e5",
   "metadata": {},
   "outputs": [],
   "source": [
    "def reverse_list(li: list) -> list:\n",
    "    input_index = int(input(\"Enter Input Index: \"))\n",
    "    return li[:input_index][::-1] + [li[input_index]] + li[input_index+1:][::-1]"
   ]
  },
  {
   "cell_type": "code",
   "execution_count": 14,
   "id": "1fddc361-f0a1-44df-b984-1290d460161b",
   "metadata": {},
   "outputs": [
    {
     "name": "stdin",
     "output_type": "stream",
     "text": [
      "Enter Input Index:  2\n"
     ]
    },
    {
     "data": {
      "text/plain": [
       "[2, 1, 3, 9, 8, 7, 6, 5, 4]"
      ]
     },
     "execution_count": 14,
     "metadata": {},
     "output_type": "execute_result"
    }
   ],
   "source": [
    "reverse_list(li)"
   ]
  },
  {
   "cell_type": "markdown",
   "id": "17427e76-0e80-44e5-8e44-11d4b3088bc4",
   "metadata": {},
   "source": [
    "### Exercise 4 — Scrabble - 0 Points - Programming task\n",
    "Create a function in a script that takes a word and calculates its Scrabble score. Use the following\n",
    "values for this: <br>\n",
    "values = {\"a\": 1, \"b\": 3, \"c\": 4, \"d\": 1, \"e\": 1, \"f\": 4, \"g\": 2, \"h\": 2, \"i\": 1, \"j\": <br>\n",
    "6, \"k\": 4, \"l\": 2, \"m\": 3, \"n\": 1, \"o\": 2, \"p\": 4, \"q\": 10, \"r\": 1, \"s\": 1, \"t\": <br>\n",
    "1, \"u\": 1, \"v\": 6, \"w\": 3, \"x\": 8, \"y\": 10, \"z\": 3, \"ä\": 6, \"ö\": 8, \"ü\": 6} <br>\n",
    "An example looks like this: <br>\n",
    "scrabble(’informatikum’) <br>\n",
    "23<br>\n",
    "Hint 1: The following should be the first line in your script so that the umlauts are correctly recognized:<br>\n",
    "-*- coding: utf-8 -*- <br>\n",
    "Hint 2: Assume that the entry always consists of lowercase letters. <br>"
   ]
  },
  {
   "cell_type": "code",
   "execution_count": 15,
   "id": "3752610a-d4ab-4e16-8206-a3ae0352610d",
   "metadata": {},
   "outputs": [],
   "source": [
    "values = {\"a\": 1, \"b\": 3, \"c\": 4, \"d\": 1, \"e\": 1, \"f\": 4, \"g\": 2, \"h\": 2, \"i\": 1, \"j\":\n",
    "6, \"k\": 4, \"l\": 2, \"m\": 3, \"n\": 1, \"o\": 2, \"p\": 4, \"q\": 10, \"r\": 1, \"s\": 1, \"t\":\n",
    "1, \"u\": 1, \"v\": 6, \"w\": 3, \"x\": 8, \"y\": 10, \"z\": 3, \"ä\": 6, \"ö\": 8, \"ü\": 6}"
   ]
  },
  {
   "cell_type": "code",
   "execution_count": 20,
   "id": "560066c7-e857-4465-b37a-0f3d61401ebc",
   "metadata": {},
   "outputs": [],
   "source": [
    "# -- coding: utf-8 --\n",
    "\n",
    "def scrabble_score(s: str) -> int:\n",
    "    score = 0\n",
    "    for ch in s:\n",
    "        score += values.get(ch, 0)\n",
    "    return score"
   ]
  },
  {
   "cell_type": "code",
   "execution_count": 21,
   "id": "df292ab0-0aa0-47b2-8241-3d0356234182",
   "metadata": {},
   "outputs": [
    {
     "data": {
      "text/plain": [
       "23"
      ]
     },
     "execution_count": 21,
     "metadata": {},
     "output_type": "execute_result"
    }
   ],
   "source": [
    "scrabble_score(\"informatikum\")"
   ]
  },
  {
   "cell_type": "markdown",
   "id": "540a159c-8dd9-4385-9e56-c7e93f1f12df",
   "metadata": {},
   "source": [
    "### Exercise 5 — List of 5 - 0 Points - Programming task\n",
    "We want to know a little more about lists of numbers. Writes a script that reads five numbers from the\n",
    "console (floats) and outputs the following information on the console:<br>\n",
    "•List of all inputs<br>\n",
    "•Minimum with Index<br>\n",
    "•Maximum with Index<br>\n",
    "•Median<br>\n",
    "•Number of unique elements<br>\n",
    "•Number of integers (Z)<br>\n",
    "•Number of other numbers (R \\Z).<br>\n",
    "For example:<br>\n",
    "One number please: 5<br>\n",
    "One number please: 4<br>\n",
    "One number please: 2.2<br>\n",
    "One number please: 3<br>\n",
    "One number please: 5<br>\n",
    "[5.0, 4.0, 2.2, 3.0, 5.0]<br>\n",
    "min 2.2 2<br>\n",
    "max 5.0 0<br>\n",
    "median 4.0<br>\n",
    "unique 4<br>\n",
    "integers 4<br>\n",
    "real numbers without integers 1"
   ]
  },
  {
   "cell_type": "code",
   "execution_count": 22,
   "id": "bcd755ea-2829-4354-93da-aaab76564212",
   "metadata": {},
   "outputs": [
    {
     "name": "stdin",
     "output_type": "stream",
     "text": [
      "Enter the 0 number 5\n",
      "Enter the 1 number 4\n",
      "Enter the 2 number 2.2\n",
      "Enter the 3 number 3\n",
      "Enter the 4 number 5\n"
     ]
    }
   ],
   "source": [
    "numbers = []\n",
    "for i in range(5):\n",
    "    numbers.append(float(input(f\"Enter the {i} number\")))"
   ]
  },
  {
   "cell_type": "code",
   "execution_count": 23,
   "id": "363bde49-cec0-4071-b998-86efeb5bf45a",
   "metadata": {},
   "outputs": [
    {
     "data": {
      "text/plain": [
       "[5.0, 4.0, 2.2, 3.0, 5.0]"
      ]
     },
     "execution_count": 23,
     "metadata": {},
     "output_type": "execute_result"
    }
   ],
   "source": [
    "numbers"
   ]
  },
  {
   "cell_type": "code",
   "execution_count": 24,
   "id": "9d198b71-ec34-4821-82ff-da7160d1393d",
   "metadata": {},
   "outputs": [],
   "source": [
    "def find_min(li: list) -> (int, int):\n",
    "    return min(li), li.index(min(li))"
   ]
  },
  {
   "cell_type": "code",
   "execution_count": 25,
   "id": "aeff4168-9a55-449c-baf0-274f45f05ba9",
   "metadata": {},
   "outputs": [],
   "source": [
    "def find_max(li: list) -> (int, int):\n",
    "    return max(li), li.index(max(li))"
   ]
  },
  {
   "cell_type": "code",
   "execution_count": 29,
   "id": "bc3e1e7f-7189-4413-9a9a-8ed80a5b2876",
   "metadata": {},
   "outputs": [
    {
     "name": "stdout",
     "output_type": "stream",
     "text": [
      "Maximum number is : 5.0 \n",
      "at index: 0\n"
     ]
    }
   ],
   "source": [
    "print(f\"Maximum number is : {find_max(numbers)[0]} \\nat index: {find_max(numbers)[1]}\")"
   ]
  },
  {
   "cell_type": "code",
   "execution_count": 27,
   "id": "2f59db05-1719-43d5-9df9-550026f4c6f3",
   "metadata": {},
   "outputs": [],
   "source": [
    "mini, mini_idx = find_min(numbers)"
   ]
  },
  {
   "cell_type": "code",
   "execution_count": 30,
   "id": "52419936-0eb1-45c0-8fc8-21b066058bf6",
   "metadata": {},
   "outputs": [
    {
     "name": "stdout",
     "output_type": "stream",
     "text": [
      "Minimum number is : 2.2 \n",
      "at index: 2\n"
     ]
    }
   ],
   "source": [
    "print(f\"Minimum number is : {mini} \\nat index: {mini_idx}\")"
   ]
  },
  {
   "cell_type": "code",
   "execution_count": 34,
   "id": "8e8326c8-38a3-47ae-9ea8-e4545bc66687",
   "metadata": {},
   "outputs": [
    {
     "name": "stdout",
     "output_type": "stream",
     "text": [
      "Median of the list: 4.0\n"
     ]
    }
   ],
   "source": [
    "def find_median(nums: list) -> float:\n",
    "    sorted_nums = sorted(nums)\n",
    "    if len(sorted_nums) % 2 == 1:\n",
    "        return sorted_nums[len(sorted_nums) // 2]\n",
    "    mid1 = len(sorted_nums) // 2\n",
    "    mid2 = mid1 + 1\n",
    "    return (sorted_nums[mid1] + sorted_nums[mid2]) / 2\n",
    "\n",
    "print(f\"Median of the list: {find_median(numbers)}\")"
   ]
  },
  {
   "cell_type": "code",
   "execution_count": 35,
   "id": "4689d33c-ab13-4993-b9de-f1f09c90e736",
   "metadata": {},
   "outputs": [
    {
     "name": "stdout",
     "output_type": "stream",
     "text": [
      "Number of unique numbers: 4\n"
     ]
    }
   ],
   "source": [
    "unique = set()\n",
    "\n",
    "for num in numbers:\n",
    "    unique.add(num)\n",
    "\n",
    "print(f\"Number of unique numbers: {len(unique)}\")"
   ]
  },
  {
   "cell_type": "code",
   "execution_count": 38,
   "id": "278da9ff-82cc-453f-b7c0-e6deea02447f",
   "metadata": {},
   "outputs": [],
   "source": [
    "def findIntegerNumber(li: list) -> int:\n",
    "    count = 0\n",
    "    for num in li:\n",
    "        if num.is_integer():\n",
    "            count += 1\n",
    "    return count"
   ]
  },
  {
   "cell_type": "code",
   "execution_count": 39,
   "id": "31753435-6b0f-4aef-ae39-03747df76a07",
   "metadata": {},
   "outputs": [
    {
     "name": "stdout",
     "output_type": "stream",
     "text": [
      "Number of Integers: 4\n"
     ]
    }
   ],
   "source": [
    "print(f\"Number of Integers: {findIntegerNumber(numbers)}\")"
   ]
  },
  {
   "cell_type": "code",
   "execution_count": 41,
   "id": "59cf66ba-d933-4892-ac64-dfe804da8fb6",
   "metadata": {},
   "outputs": [
    {
     "name": "stdout",
     "output_type": "stream",
     "text": [
      "Real numbers without Integers: 1\n"
     ]
    }
   ],
   "source": [
    "print(f\"Real numbers without Integers: {len(numbers) - findIntegerNumber(numbers)}\")"
   ]
  },
  {
   "cell_type": "code",
   "execution_count": null,
   "id": "9fc56177-7675-423c-861e-ccf8d645275a",
   "metadata": {},
   "outputs": [],
   "source": []
  }
 ],
 "metadata": {
  "kernelspec": {
   "display_name": "Python 3 (ipykernel)",
   "language": "python",
   "name": "python3"
  },
  "language_info": {
   "codemirror_mode": {
    "name": "ipython",
    "version": 3
   },
   "file_extension": ".py",
   "mimetype": "text/x-python",
   "name": "python",
   "nbconvert_exporter": "python",
   "pygments_lexer": "ipython3",
   "version": "3.12.7"
  }
 },
 "nbformat": 4,
 "nbformat_minor": 5
}
